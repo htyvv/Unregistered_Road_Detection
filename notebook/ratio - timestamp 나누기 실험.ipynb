{
 "cells": [
  {
   "cell_type": "code",
   "execution_count": 46,
   "id": "06637c49",
   "metadata": {},
   "outputs": [],
   "source": [
    "# lstm autoencoder to recreate a timeseries\n",
    "import numpy as np\n",
    "from keras.models import Sequential\n",
    "from keras.layers import LSTM\n",
    "from keras.layers import Dense\n",
    "from keras.layers import RepeatVector\n",
    "from keras.layers import TimeDistributed\n",
    "'''\n",
    "A UDF to convert input data into 3-D\n",
    "array as required for LSTM network.\n",
    "'''\n",
    "\n",
    "def temporalize(X, y, lookback):\n",
    "    output_X = []\n",
    "    output_y = []\n",
    "    for i in range(len(X)-lookback-1):\n",
    "        t = []\n",
    "        for j in range(1,lookback+1):\n",
    "            # Gather past records upto the lookback period\n",
    "            t.append(X[[(i+j+1)], :])\n",
    "        output_X.append(t)\n",
    "        output_y.append(y[i+lookback+1])\n",
    "    return output_X, output_y"
   ]
  },
  {
   "cell_type": "code",
   "execution_count": 47,
   "id": "a374ddee",
   "metadata": {},
   "outputs": [
    {
     "data": {
      "text/plain": [
       "array([[0.1  , 0.001],\n",
       "       [0.2  , 0.008],\n",
       "       [0.3  , 0.027],\n",
       "       [0.4  , 0.064],\n",
       "       [0.5  , 0.125],\n",
       "       [0.6  , 0.216],\n",
       "       [0.7  , 0.343],\n",
       "       [0.8  , 0.512],\n",
       "       [0.9  , 0.729]])"
      ]
     },
     "execution_count": 47,
     "metadata": {},
     "output_type": "execute_result"
    }
   ],
   "source": [
    "# define input timeseries\n",
    "timeseries = np.array([[0.1, 0.2, 0.3, 0.4, 0.5, 0.6, 0.7, 0.8, 0.9],\n",
    "                       [0.1**3, 0.2**3, 0.3**3, 0.4**3, 0.5**3, 0.6**3, 0.7**3, 0.8**3, 0.9**3]]).transpose()\n",
    "\n",
    "timesteps = timeseries.shape[0]\n",
    "n_features = timeseries.shape[1]\n",
    "timeseries"
   ]
  },
  {
   "cell_type": "code",
   "execution_count": 49,
   "id": "1ff4e7d9",
   "metadata": {
    "scrolled": false
   },
   "outputs": [
    {
     "name": "stdout",
     "output_type": "stream",
     "text": [
      "[[[0.3   0.027]\n",
      "  [0.4   0.064]\n",
      "  [0.5   0.125]]\n",
      "\n",
      " [[0.4   0.064]\n",
      "  [0.5   0.125]\n",
      "  [0.6   0.216]]\n",
      "\n",
      " [[0.5   0.125]\n",
      "  [0.6   0.216]\n",
      "  [0.7   0.343]]\n",
      "\n",
      " [[0.6   0.216]\n",
      "  [0.7   0.343]\n",
      "  [0.8   0.512]]\n",
      "\n",
      " [[0.7   0.343]\n",
      "  [0.8   0.512]\n",
      "  [0.9   0.729]]]\n"
     ]
    }
   ],
   "source": [
    "timesteps = 3\n",
    "X, y = temporalize(X = timeseries, y = np.zeros(len(timeseries)), lookback = timesteps)\n",
    "\n",
    "n_features = 2\n",
    "X = np.array(X)\n",
    "X = X.reshape(X.shape[0], timesteps, n_features)\n",
    "\n",
    "print(X)"
   ]
  }
 ],
 "metadata": {
  "kernelspec": {
   "display_name": "Python 3 (ipykernel)",
   "language": "python",
   "name": "python3"
  },
  "language_info": {
   "codemirror_mode": {
    "name": "ipython",
    "version": 3
   },
   "file_extension": ".py",
   "mimetype": "text/x-python",
   "name": "python",
   "nbconvert_exporter": "python",
   "pygments_lexer": "ipython3",
   "version": "3.7.13"
  }
 },
 "nbformat": 4,
 "nbformat_minor": 5
}
