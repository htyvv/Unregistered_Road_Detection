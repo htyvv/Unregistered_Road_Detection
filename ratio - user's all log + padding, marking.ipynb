{
 "cells": [
  {
   "cell_type": "code",
   "execution_count": 1,
   "id": "b847b7ea",
   "metadata": {},
   "outputs": [],
   "source": [
    "# import libraries\n",
    "import pandas as pd\n",
    "import numpy as np\n",
    "from sklearn.preprocessing import MinMaxScaler\n",
    "import joblib\n",
    "import seaborn as sns\n",
    "sns.set(color_codes=True)\n",
    "import matplotlib.pyplot as plt\n",
    "%matplotlib inline\n",
    "\n",
    "from numpy.random import seed\n",
    "import tensorflow as tf\n",
    "from tensorflow import keras\n",
    "tf.compat.v1.logging.set_verbosity(tf.compat.v1.logging.ERROR)\n",
    "tf.compat.v1.ConfigProto(gpu_options=tf.compat.v1.GPUOptions(per_process_gpu_memory_fraction=0.8)#device_count={'GPU':1}\n",
    ")\n",
    "\n",
    "from keras.layers import Input, Dropout, Dense, LSTM, TimeDistributed, RepeatVector, Masking, Embedding\n",
    "from keras.models import Model\n",
    "from keras import regularizers\n",
    "from keras.preprocessing.sequence import pad_sequences\n",
    "\n",
    "\n",
    "import os\n",
    "import csv\n",
    "from os import listdir\n",
    "os.environ[\"CUDA_VISIBLE_DIVICES\"]=''\n",
    "\n",
    "# set random seed\n",
    "seed(10)\n",
    "tf.random.set_seed(10)"
   ]
  },
  {
   "cell_type": "code",
   "execution_count": 15,
   "id": "04d9f990",
   "metadata": {
    "scrolled": true
   },
   "outputs": [
    {
     "name": "stdout",
     "output_type": "stream",
     "text": [
      "[1407, 4972, 2111, 2798, 3218, 500, 6182, 1116, 1079, 986, 1064, 2404, 3251, 5031, 3225, 3344, 3205, 3979, 4313, 3907, 3956, 6492, 3491, 3204, 8715, 3377, 4477, 3152, 2368, 3847, 3708, 4919, 3827, 3727, 1497, 3476, 2717, 3454, 3750, 2697, 851, 3686, 3191, 5352, 1380, 2300, 3474, 2724, 2964, 3532, 3141, 4790, 3881, 3974, 4595]\n",
      "[500, 851, 986, 1064, 1079, 1116, 1380, 1407, 1497, 2111, 2300, 2368, 2404, 2697, 2717, 2724, 2798, 2964, 3141, 3152, 3191, 3204, 3205, 3218, 3225, 3251, 3344, 3377, 3454, 3474, 3476, 3491, 3532, 3686, 3708, 3727, 3750, 3827, 3847, 3881, 3907, 3956, 3974, 3979, 4313, 4477, 4595, 4790, 4919, 4972, 5031, 5352, 6182, 6492, 8715]\n"
     ]
    },
    {
     "data": {
      "image/png": "[encoded data removed]",
      "text/plain": [
       "<Figure size 432x288 with 1 Axes>"
      ]
     },
     "metadata": {
      "needs_background": "light"
     },
     "output_type": "display_data"
    },
    {
     "name": "stdout",
     "output_type": "stream",
     "text": [
      "(55, 6492, 2)\n",
      "[[[0.98328788 0.90362   ]\n",
      "  [0.98295443 0.90378679]\n",
      "  [0.98258283 0.90398083]\n",
      "  ...\n",
      "  [0.         0.        ]\n",
      "  [0.         0.        ]\n",
      "  [0.         0.        ]]\n",
      "\n",
      " [[0.03809905 0.11438292]\n",
      "  [0.03778963 0.11538551]\n",
      "  [0.03752254 0.11633642]\n",
      "  ...\n",
      "  [0.         0.        ]\n",
      "  [0.         0.        ]\n",
      "  [0.         0.        ]]\n",
      "\n",
      " [[0.60835409 0.78063051]\n",
      "  [0.60869958 0.78115104]\n",
      "  [0.60920595 0.78161753]\n",
      "  ...\n",
      "  [0.         0.        ]\n",
      "  [0.         0.        ]\n",
      "  [0.         0.        ]]\n",
      "\n",
      " ...\n",
      "\n",
      " [[0.06671002 0.01100964]\n",
      "  [0.06652521 0.01166505]\n",
      "  [0.06643671 0.01239972]\n",
      "  ...\n",
      "  [0.         0.        ]\n",
      "  [0.         0.        ]\n",
      "  [0.         0.        ]]\n",
      "\n",
      " [[0.06217145 0.01526194]\n",
      "  [0.06187603 0.01568926]\n",
      "  [0.06158928 0.01619516]\n",
      "  ...\n",
      "  [0.         0.        ]\n",
      "  [0.         0.        ]\n",
      "  [0.         0.        ]]\n",
      "\n",
      " [[0.56212699 0.77853316]\n",
      "  [0.56250525 0.77734883]\n",
      "  [0.56275076 0.77566991]\n",
      "  ...\n",
      "  [0.         0.        ]\n",
      "  [0.         0.        ]\n",
      "  [0.         0.        ]]]\n"
     ]
    }
   ],
   "source": [
    "## 사용자의 log 분석\n",
    "original_df = []\n",
    "scaled_df = []\n",
    "scaler = MinMaxScaler()\n",
    "\n",
    "# 모든 사용자 load\n",
    "users = ['0mnEB226qqgHE79KLEfxRj6fiEK2']\n",
    "\n",
    "for user in users:\n",
    "    #print(user)\n",
    "    original_list = []\n",
    "    scaled_list = []\n",
    "    len_list = []\n",
    "\n",
    "    # log_info/user 폴더 하위에 있는 모든 파일에 대해 (즉, 모든 log파일에 대해) 도로 세그먼트 정보를 생성\n",
    "    for file in listdir('./log_segment_info/'+user):\n",
    "        log_name = file.split(\"_\")[0]\n",
    "\n",
    "        # log{logname}_info.csv 파일을 load\n",
    "        log_csv_name= './log_segment_info/'+user+\"/\"+file\n",
    "        if('segment' not in file):\n",
    "            continue\n",
    "            \n",
    "        #print(log_csv_name)\n",
    "        if os.path.isfile(log_csv_name):\n",
    "            csv = pd.read_csv(log_csv_name, usecols=['mercX', 'mercY'])\n",
    "            if len(csv) == 0:\n",
    "                print(\"log length is 0\")\n",
    "                continue\n",
    "                \n",
    "            # segment matching이 실패한 행 제외\n",
    "            #csv = csv[csv['seg_id'].notnull()]\n",
    "            \n",
    "            # 정규화\n",
    "            scaled_csv = scaler.fit_transform(csv)\n",
    "            \n",
    "            original_list.append(csv.values.tolist())\n",
    "            scaled_list.append(scaled_csv)\n",
    "            len_list.append(len(csv))\n",
    "        else:\n",
    "            print(\"no log info\")\n",
    "\n",
    "    print(len_list)\n",
    "    \n",
    "\n",
    "    # 분포 그리기\n",
    "    sorted_list = sorted(len_list)\n",
    "    print(sorted_list)\n",
    "    \n",
    "    label = np.arange(len(sorted_list))\n",
    "    index = np.arange(len(sorted_list))\n",
    "    plt.bar(index, sorted_list)\n",
    "    plt.title('User log length', fontsize=20)\n",
    "    plt.xlabel('file', fontsize=18)\n",
    "    plt.ylabel('length', fontsize=18)\n",
    "    plt.xticks(index, label, fontsize=15)\n",
    "    plt.show()\n",
    "\n",
    "    # 최대 길이 선택\n",
    "    selected_length = 6492\n",
    "\n",
    "    # padding 추가\n",
    "    original_df = pad_sequences(original_list, padding='post', maxlen=selected_length, dtype='float64')\n",
    "    scaled_df = pad_sequences(scaled_list, padding='post', maxlen=selected_length, dtype='float64')\n",
    "    print(scaled_df.shape)\n",
    "    print(scaled_df)"
   ]
  },
  {
   "cell_type": "code",
   "execution_count": 17,
   "id": "23165b0b",
   "metadata": {},
   "outputs": [
    {
     "data": {
      "text/plain": [
       "(array([1., 0., 2., 3., 1., 2., 0., 0., 1., 2., 1., 4., 1., 3., 7., 5., 4.,\n",
       "        7., 0., 1., 2., 1., 2., 1., 1., 0., 0., 0., 1., 0., 1., 0., 0., 0.,\n",
       "        0., 0., 0., 0., 0., 0., 0., 1.]),\n",
       " array([ 400.,  600.,  800., 1000., 1200., 1400., 1600., 1800., 2000.,\n",
       "        2200., 2400., 2600., 2800., 3000., 3200., 3400., 3600., 3800.,\n",
       "        4000., 4200., 4400., 4600., 4800., 5000., 5200., 5400., 5600.,\n",
       "        5800., 6000., 6200., 6400., 6600., 6800., 7000., 7200., 7400.,\n",
       "        7600., 7800., 8000., 8200., 8400., 8600., 8800.]),\n",
       " <BarContainer object of 42 artists>)"
      ]
     },
     "execution_count": 17,
     "metadata": {},
     "output_type": "execute_result"
    },
    {
     "data": {
      "image/png": "[encoded data removed]",
      "text/plain": [
       "<Figure size 432x288 with 1 Axes>"
      ]
     },
     "metadata": {
      "needs_background": "light"
     },
     "output_type": "display_data"
    }
   ],
   "source": [
    "def find_bins(observations, width):\n",
    "    minimmum = np.min(observations)\n",
    "    maximmum = np.max(observations)\n",
    "    bound_min = -1.0 * (minimmum % width - minimmum)\n",
    "    bound_max = maximmum - maximmum % width + width\n",
    "    n = int((bound_max - bound_min) / width) + 1\n",
    "    bins = np.linspace(bound_min, bound_max, n)\n",
    "    return bins\n",
    "\n",
    "bins = find_bins(len_list, 200.0)\n",
    "plt.hist(len_list, bins=bins)"
   ]
  },
  {
   "cell_type": "code",
   "execution_count": 19,
   "id": "7467ef74",
   "metadata": {},
   "outputs": [
    {
     "data": {
      "image/png": "[encoded data removed]",
      "text/plain": [
       "<Figure size 432x288 with 1 Axes>"
      ]
     },
     "metadata": {
      "needs_background": "light"
     },
     "output_type": "display_data"
    }
   ],
   "source": [
    "from scipy.stats import kde\n",
    "density = kde.gaussian_kde(len_list)\n",
    "x = np.linspace(0, 9000, 300)\n",
    "y = density(x)\n",
    "\n",
    "plt.plot(x, y)\n",
    "plt.title(\"Density Plot of the data\")\n",
    "plt.show()"
   ]
  },
  {
   "cell_type": "code",
   "execution_count": 3,
   "id": "c03f36e7",
   "metadata": {
    "scrolled": true
   },
   "outputs": [
    {
     "data": {
      "text/plain": [
       "\"\\ndir = 'C:/Users/HYS/Desktop/prev_src/log_segment_info/0mnEB226qqgHE79KLEfxRj6fiEK2'\\n#df = pd.read_csv(dir + '/log636556604_segment_info.csv', usecols=['latitude', 'longitude', 'seg_lat1', 'seg_long1', 'seg_lat2', 'seg_long2']) \\n#df = df[df['seg_lat1'] != 0].reset_index(drop=True)\\ndf = pd.read_csv(dir + '/log636556604_segment_info.csv', usecols=['latitude', 'longitude'])\\n\\ndf_list = []\\ndf_list.append(df.values.tolist())\\nprint(df_list)\\npadded_df = pad_sequences(df_list, padding='post', maxlen=selected_length, dtype='float64')\\nprint(padded_df)\\n\""
      ]
     },
     "execution_count": 3,
     "metadata": {},
     "output_type": "execute_result"
    }
   ],
   "source": [
    "## 파일 불러오기 (단일 파일용)\n",
    "'''\n",
    "dir = 'C:/Users/HYS/Desktop/prev_src/log_segment_info/0mnEB226qqgHE79KLEfxRj6fiEK2'\n",
    "#df = pd.read_csv(dir + '/log636556604_segment_info.csv', usecols=['latitude', 'longitude', 'seg_lat1', 'seg_long1', 'seg_lat2', 'seg_long2']) \n",
    "#df = df[df['seg_lat1'] != 0].reset_index(drop=True)\n",
    "df = pd.read_csv(dir + '/log636556604_segment_info.csv', usecols=['latitude', 'longitude'])\n",
    "\n",
    "df_list = []\n",
    "df_list.append(df.values.tolist())\n",
    "print(df_list)\n",
    "padded_df = pad_sequences(df_list, padding='post', maxlen=selected_length, dtype='float64')\n",
    "print(padded_df)\n",
    "'''"
   ]
  },
  {
   "cell_type": "code",
   "execution_count": 4,
   "id": "7d070836",
   "metadata": {},
   "outputs": [
    {
     "data": {
      "text/plain": [
       "'\\n#scaler = MinMaxScaler()\\n#scaled_df = scaler.fit_transform(df)\\n#print(scaled_df)\\n#print(len(scaled_df))\\nscaled_df = df.to_numpy()\\n'"
      ]
     },
     "execution_count": 4,
     "metadata": {},
     "output_type": "execute_result"
    }
   ],
   "source": [
    "## 정규화 (단일 파일용)\n",
    "'''\n",
    "#scaler = MinMaxScaler()\n",
    "#scaled_df = scaler.fit_transform(df)\n",
    "#print(scaled_df)\n",
    "#print(len(scaled_df))\n",
    "scaled_df = df.to_numpy()\n",
    "'''"
   ]
  },
  {
   "cell_type": "code",
   "execution_count": 5,
   "id": "bbd6ac22",
   "metadata": {
    "scrolled": false
   },
   "outputs": [
    {
     "data": {
      "text/plain": [
       "'\\n# 데이터 window_size로 나누기\\ndef temporalize(X, window_size):\\n    output_X = []\\n    for i in range(window_size - 1, len(X)):\\n        t = []\\n        for j in range(i - window_size+1, i+1):\\n            t.append(X[[j], :])\\n        output_X.append(t)\\n    return output_X\\n\\nwindow_size = 3\\nX_train = temporalize(scaled_df, window_size)\\nX_train = np.array(X_train)\\n\\n# reshape\\nX_train = X_train.reshape(X_train.shape[0], window_size, df.shape[1])\\nprint(X_train)\\nprint(len(X_train))\\n'"
      ]
     },
     "execution_count": 5,
     "metadata": {},
     "output_type": "execute_result"
    }
   ],
   "source": [
    "## LSTM에 입력하기 위해 reshape [samples(= batch 크기), timesteps(= time의 크기), features(= input 열의 개수)]\n",
    "\n",
    "'''\n",
    "# 데이터 window_size로 나누기\n",
    "def temporalize(X, window_size):\n",
    "    output_X = []\n",
    "    for i in range(window_size - 1, len(X)):\n",
    "        t = []\n",
    "        for j in range(i - window_size+1, i+1):\n",
    "            t.append(X[[j], :])\n",
    "        output_X.append(t)\n",
    "    return output_X\n",
    "\n",
    "window_size = 3\n",
    "X_train = temporalize(scaled_df, window_size)\n",
    "X_train = np.array(X_train)\n",
    "\n",
    "# reshape\n",
    "X_train = X_train.reshape(X_train.shape[0], window_size, df.shape[1])\n",
    "print(X_train)\n",
    "print(len(X_train))\n",
    "'''"
   ]
  },
  {
   "cell_type": "code",
   "execution_count": 6,
   "id": "076035e5",
   "metadata": {},
   "outputs": [],
   "source": [
    "# #Autoencoder network model 정의\n",
    "# return_sequences=True: decoder의 input에 encoder의 모든 output이 각각 사용됨\n",
    "# RepeadVector: decoder의 input에 encoder의 제일 마지막 output만 사용됨\n",
    "\n",
    "def autoencoder_model(X):\n",
    "    inputs = Input(shape=(X.shape[1], X.shape[2]))\n",
    "    masked = Masking(mask_value=0.)(inputs)\n",
    "    encoder_1 = LSTM(64, activation='relu', return_sequences=False)(masked)\n",
    "    encoded_feature = RepeatVector(X.shape[1])(encoder_1)\n",
    "    decoder_1 = LSTM(64, activation='relu', return_sequences=True)(encoded_feature)\n",
    "    output = TimeDistributed(Dense(X.shape[2]))(decoder_1)\n",
    "    model = Model(inputs=inputs, outputs=output)\n",
    "    return model"
   ]
  },
  {
   "cell_type": "code",
   "execution_count": 7,
   "id": "96dc1ab9",
   "metadata": {},
   "outputs": [
    {
     "name": "stdout",
     "output_type": "stream",
     "text": [
      "(55, 6492, 2)\n",
      "Model: \"model\"\n",
      "_________________________________________________________________\n",
      " Layer (type)                Output Shape              Param #   \n",
      "=================================================================\n",
      " input_1 (InputLayer)        [(None, 6492, 2)]         0         \n",
      "                                                                 \n",
      " masking (Masking)           (None, 6492, 2)           0         \n",
      "                                                                 \n",
      " lstm (LSTM)                 (None, 6492, 128)         67072     \n",
      "                                                                 \n",
      " lstm_1 (LSTM)               (None, 64)                49408     \n",
      "                                                                 \n",
      " repeat_vector (RepeatVector  (None, 6492, 64)         0         \n",
      " )                                                               \n",
      "                                                                 \n",
      " lstm_2 (LSTM)               (None, 6492, 64)          33024     \n",
      "                                                                 \n",
      " lstm_3 (LSTM)               (None, 6492, 128)         98816     \n",
      "                                                                 \n",
      " time_distributed (TimeDistr  (None, 6492, 2)          258       \n",
      " ibuted)                                                         \n",
      "                                                                 \n",
      "=================================================================\n",
      "Total params: 248,578\n",
      "Trainable params: 248,578\n",
      "Non-trainable params: 0\n",
      "_________________________________________________________________\n"
     ]
    }
   ],
   "source": [
    "# 학습\n",
    "X_train = scaled_df\n",
    "print(X_train.shape)\n",
    " \n",
    "model = autoencoder_model(X_train)\n",
    "model.compile(optimizer=keras.optimizers.Adam(learning_rate=0.001), loss='mae', metrics=['acc'])\n",
    "model.summary()"
   ]
  },
  {
   "cell_type": "code",
   "execution_count": 8,
   "id": "d65d2556",
   "metadata": {
    "scrolled": true
   },
   "outputs": [
    {
     "name": "stdout",
     "output_type": "stream",
     "text": [
      "Epoch 1/100\n",
      "3/3 [==============================] - 262s 89s/step - loss: 0.2576 - acc: 0.4234 - val_loss: 0.3262 - val_acc: 0.5257\n",
      "Epoch 2/100\n",
      "3/3 [==============================] - 550s 181s/step - loss: 0.2573 - acc: 0.4337 - val_loss: 0.3259 - val_acc: 0.4716\n",
      "Epoch 3/100\n"
     ]
    },
    {
     "ename": "KeyboardInterrupt",
     "evalue": "",
     "output_type": "error",
     "traceback": [
      "\u001b[1;31m---------------------------------------------------------------------------\u001b[0m",
      "\u001b[1;31mKeyboardInterrupt\u001b[0m                         Traceback (most recent call last)",
      "\u001b[1;32mC:\\Users\\Public\\Documents\\ESTsoft\\CreatorTemp\\ipykernel_17424\\2129505173.py\u001b[0m in \u001b[0;36m<module>\u001b[1;34m\u001b[0m\n\u001b[0;32m      2\u001b[0m \u001b[0mnb_epochs\u001b[0m \u001b[1;33m=\u001b[0m \u001b[1;36m100\u001b[0m\u001b[1;33m\u001b[0m\u001b[1;33m\u001b[0m\u001b[0m\n\u001b[0;32m      3\u001b[0m \u001b[0mbatch_size\u001b[0m \u001b[1;33m=\u001b[0m \u001b[1;36m20\u001b[0m\u001b[1;33m\u001b[0m\u001b[1;33m\u001b[0m\u001b[0m\n\u001b[1;32m----> 4\u001b[1;33m \u001b[0mhistory\u001b[0m \u001b[1;33m=\u001b[0m \u001b[0mmodel\u001b[0m\u001b[1;33m.\u001b[0m\u001b[0mfit\u001b[0m\u001b[1;33m(\u001b[0m\u001b[0mX_train\u001b[0m\u001b[1;33m,\u001b[0m \u001b[0mX_train\u001b[0m\u001b[1;33m,\u001b[0m \u001b[0mepochs\u001b[0m\u001b[1;33m=\u001b[0m\u001b[0mnb_epochs\u001b[0m\u001b[1;33m,\u001b[0m \u001b[0mbatch_size\u001b[0m\u001b[1;33m=\u001b[0m\u001b[0mbatch_size\u001b[0m\u001b[1;33m,\u001b[0m \u001b[0mvalidation_split\u001b[0m\u001b[1;33m=\u001b[0m\u001b[1;36m0.05\u001b[0m\u001b[1;33m)\u001b[0m\u001b[1;33m.\u001b[0m\u001b[0mhistory\u001b[0m\u001b[1;33m\u001b[0m\u001b[1;33m\u001b[0m\u001b[0m\n\u001b[0m",
      "\u001b[1;32m~\\anaconda3\\envs\\ratio2\\lib\\site-packages\\keras\\utils\\traceback_utils.py\u001b[0m in \u001b[0;36merror_handler\u001b[1;34m(*args, **kwargs)\u001b[0m\n\u001b[0;32m     62\u001b[0m     \u001b[0mfiltered_tb\u001b[0m \u001b[1;33m=\u001b[0m \u001b[1;32mNone\u001b[0m\u001b[1;33m\u001b[0m\u001b[1;33m\u001b[0m\u001b[0m\n\u001b[0;32m     63\u001b[0m     \u001b[1;32mtry\u001b[0m\u001b[1;33m:\u001b[0m\u001b[1;33m\u001b[0m\u001b[1;33m\u001b[0m\u001b[0m\n\u001b[1;32m---> 64\u001b[1;33m       \u001b[1;32mreturn\u001b[0m \u001b[0mfn\u001b[0m\u001b[1;33m(\u001b[0m\u001b[1;33m*\u001b[0m\u001b[0margs\u001b[0m\u001b[1;33m,\u001b[0m \u001b[1;33m**\u001b[0m\u001b[0mkwargs\u001b[0m\u001b[1;33m)\u001b[0m\u001b[1;33m\u001b[0m\u001b[1;33m\u001b[0m\u001b[0m\n\u001b[0m\u001b[0;32m     65\u001b[0m     \u001b[1;32mexcept\u001b[0m \u001b[0mException\u001b[0m \u001b[1;32mas\u001b[0m \u001b[0me\u001b[0m\u001b[1;33m:\u001b[0m  \u001b[1;31m# pylint: disable=broad-except\u001b[0m\u001b[1;33m\u001b[0m\u001b[1;33m\u001b[0m\u001b[0m\n\u001b[0;32m     66\u001b[0m       \u001b[0mfiltered_tb\u001b[0m \u001b[1;33m=\u001b[0m \u001b[0m_process_traceback_frames\u001b[0m\u001b[1;33m(\u001b[0m\u001b[0me\u001b[0m\u001b[1;33m.\u001b[0m\u001b[0m__traceback__\u001b[0m\u001b[1;33m)\u001b[0m\u001b[1;33m\u001b[0m\u001b[1;33m\u001b[0m\u001b[0m\n",
      "\u001b[1;32m~\\anaconda3\\envs\\ratio2\\lib\\site-packages\\keras\\engine\\training.py\u001b[0m in \u001b[0;36mfit\u001b[1;34m(self, x, y, batch_size, epochs, verbose, callbacks, validation_split, validation_data, shuffle, class_weight, sample_weight, initial_epoch, steps_per_epoch, validation_steps, validation_batch_size, validation_freq, max_queue_size, workers, use_multiprocessing)\u001b[0m\n\u001b[0;32m   1382\u001b[0m                 _r=1):\n\u001b[0;32m   1383\u001b[0m               \u001b[0mcallbacks\u001b[0m\u001b[1;33m.\u001b[0m\u001b[0mon_train_batch_begin\u001b[0m\u001b[1;33m(\u001b[0m\u001b[0mstep\u001b[0m\u001b[1;33m)\u001b[0m\u001b[1;33m\u001b[0m\u001b[1;33m\u001b[0m\u001b[0m\n\u001b[1;32m-> 1384\u001b[1;33m               \u001b[0mtmp_logs\u001b[0m \u001b[1;33m=\u001b[0m \u001b[0mself\u001b[0m\u001b[1;33m.\u001b[0m\u001b[0mtrain_function\u001b[0m\u001b[1;33m(\u001b[0m\u001b[0miterator\u001b[0m\u001b[1;33m)\u001b[0m\u001b[1;33m\u001b[0m\u001b[1;33m\u001b[0m\u001b[0m\n\u001b[0m\u001b[0;32m   1385\u001b[0m               \u001b[1;32mif\u001b[0m \u001b[0mdata_handler\u001b[0m\u001b[1;33m.\u001b[0m\u001b[0mshould_sync\u001b[0m\u001b[1;33m:\u001b[0m\u001b[1;33m\u001b[0m\u001b[1;33m\u001b[0m\u001b[0m\n\u001b[0;32m   1386\u001b[0m                 \u001b[0mcontext\u001b[0m\u001b[1;33m.\u001b[0m\u001b[0masync_wait\u001b[0m\u001b[1;33m(\u001b[0m\u001b[1;33m)\u001b[0m\u001b[1;33m\u001b[0m\u001b[1;33m\u001b[0m\u001b[0m\n",
      "\u001b[1;32m~\\anaconda3\\envs\\ratio2\\lib\\site-packages\\tensorflow\\python\\util\\traceback_utils.py\u001b[0m in \u001b[0;36merror_handler\u001b[1;34m(*args, **kwargs)\u001b[0m\n\u001b[0;32m    148\u001b[0m     \u001b[0mfiltered_tb\u001b[0m \u001b[1;33m=\u001b[0m \u001b[1;32mNone\u001b[0m\u001b[1;33m\u001b[0m\u001b[1;33m\u001b[0m\u001b[0m\n\u001b[0;32m    149\u001b[0m     \u001b[1;32mtry\u001b[0m\u001b[1;33m:\u001b[0m\u001b[1;33m\u001b[0m\u001b[1;33m\u001b[0m\u001b[0m\n\u001b[1;32m--> 150\u001b[1;33m       \u001b[1;32mreturn\u001b[0m \u001b[0mfn\u001b[0m\u001b[1;33m(\u001b[0m\u001b[1;33m*\u001b[0m\u001b[0margs\u001b[0m\u001b[1;33m,\u001b[0m \u001b[1;33m**\u001b[0m\u001b[0mkwargs\u001b[0m\u001b[1;33m)\u001b[0m\u001b[1;33m\u001b[0m\u001b[1;33m\u001b[0m\u001b[0m\n\u001b[0m\u001b[0;32m    151\u001b[0m     \u001b[1;32mexcept\u001b[0m \u001b[0mException\u001b[0m \u001b[1;32mas\u001b[0m \u001b[0me\u001b[0m\u001b[1;33m:\u001b[0m\u001b[1;33m\u001b[0m\u001b[1;33m\u001b[0m\u001b[0m\n\u001b[0;32m    152\u001b[0m       \u001b[0mfiltered_tb\u001b[0m \u001b[1;33m=\u001b[0m \u001b[0m_process_traceback_frames\u001b[0m\u001b[1;33m(\u001b[0m\u001b[0me\u001b[0m\u001b[1;33m.\u001b[0m\u001b[0m__traceback__\u001b[0m\u001b[1;33m)\u001b[0m\u001b[1;33m\u001b[0m\u001b[1;33m\u001b[0m\u001b[0m\n",
      "\u001b[1;32m~\\anaconda3\\envs\\ratio2\\lib\\site-packages\\tensorflow\\python\\eager\\def_function.py\u001b[0m in \u001b[0;36m__call__\u001b[1;34m(self, *args, **kwds)\u001b[0m\n\u001b[0;32m    913\u001b[0m \u001b[1;33m\u001b[0m\u001b[0m\n\u001b[0;32m    914\u001b[0m       \u001b[1;32mwith\u001b[0m \u001b[0mOptionalXlaContext\u001b[0m\u001b[1;33m(\u001b[0m\u001b[0mself\u001b[0m\u001b[1;33m.\u001b[0m\u001b[0m_jit_compile\u001b[0m\u001b[1;33m)\u001b[0m\u001b[1;33m:\u001b[0m\u001b[1;33m\u001b[0m\u001b[1;33m\u001b[0m\u001b[0m\n\u001b[1;32m--> 915\u001b[1;33m         \u001b[0mresult\u001b[0m \u001b[1;33m=\u001b[0m \u001b[0mself\u001b[0m\u001b[1;33m.\u001b[0m\u001b[0m_call\u001b[0m\u001b[1;33m(\u001b[0m\u001b[1;33m*\u001b[0m\u001b[0margs\u001b[0m\u001b[1;33m,\u001b[0m \u001b[1;33m**\u001b[0m\u001b[0mkwds\u001b[0m\u001b[1;33m)\u001b[0m\u001b[1;33m\u001b[0m\u001b[1;33m\u001b[0m\u001b[0m\n\u001b[0m\u001b[0;32m    916\u001b[0m \u001b[1;33m\u001b[0m\u001b[0m\n\u001b[0;32m    917\u001b[0m       \u001b[0mnew_tracing_count\u001b[0m \u001b[1;33m=\u001b[0m \u001b[0mself\u001b[0m\u001b[1;33m.\u001b[0m\u001b[0mexperimental_get_tracing_count\u001b[0m\u001b[1;33m(\u001b[0m\u001b[1;33m)\u001b[0m\u001b[1;33m\u001b[0m\u001b[1;33m\u001b[0m\u001b[0m\n",
      "\u001b[1;32m~\\anaconda3\\envs\\ratio2\\lib\\site-packages\\tensorflow\\python\\eager\\def_function.py\u001b[0m in \u001b[0;36m_call\u001b[1;34m(self, *args, **kwds)\u001b[0m\n\u001b[0;32m    945\u001b[0m       \u001b[1;31m# In this case we have created variables on the first call, so we run the\u001b[0m\u001b[1;33m\u001b[0m\u001b[1;33m\u001b[0m\u001b[1;33m\u001b[0m\u001b[0m\n\u001b[0;32m    946\u001b[0m       \u001b[1;31m# defunned version which is guaranteed to never create variables.\u001b[0m\u001b[1;33m\u001b[0m\u001b[1;33m\u001b[0m\u001b[1;33m\u001b[0m\u001b[0m\n\u001b[1;32m--> 947\u001b[1;33m       \u001b[1;32mreturn\u001b[0m \u001b[0mself\u001b[0m\u001b[1;33m.\u001b[0m\u001b[0m_stateless_fn\u001b[0m\u001b[1;33m(\u001b[0m\u001b[1;33m*\u001b[0m\u001b[0margs\u001b[0m\u001b[1;33m,\u001b[0m \u001b[1;33m**\u001b[0m\u001b[0mkwds\u001b[0m\u001b[1;33m)\u001b[0m  \u001b[1;31m# pylint: disable=not-callable\u001b[0m\u001b[1;33m\u001b[0m\u001b[1;33m\u001b[0m\u001b[0m\n\u001b[0m\u001b[0;32m    948\u001b[0m     \u001b[1;32melif\u001b[0m \u001b[0mself\u001b[0m\u001b[1;33m.\u001b[0m\u001b[0m_stateful_fn\u001b[0m \u001b[1;32mis\u001b[0m \u001b[1;32mnot\u001b[0m \u001b[1;32mNone\u001b[0m\u001b[1;33m:\u001b[0m\u001b[1;33m\u001b[0m\u001b[1;33m\u001b[0m\u001b[0m\n\u001b[0;32m    949\u001b[0m       \u001b[1;31m# Release the lock early so that multiple threads can perform the call\u001b[0m\u001b[1;33m\u001b[0m\u001b[1;33m\u001b[0m\u001b[1;33m\u001b[0m\u001b[0m\n",
      "\u001b[1;32m~\\anaconda3\\envs\\ratio2\\lib\\site-packages\\tensorflow\\python\\eager\\function.py\u001b[0m in \u001b[0;36m__call__\u001b[1;34m(self, *args, **kwargs)\u001b[0m\n\u001b[0;32m   2955\u001b[0m        filtered_flat_args) = self._maybe_define_function(args, kwargs)\n\u001b[0;32m   2956\u001b[0m     return graph_function._call_flat(\n\u001b[1;32m-> 2957\u001b[1;33m         filtered_flat_args, captured_inputs=graph_function.captured_inputs)  # pylint: disable=protected-access\n\u001b[0m\u001b[0;32m   2958\u001b[0m \u001b[1;33m\u001b[0m\u001b[0m\n\u001b[0;32m   2959\u001b[0m   \u001b[1;33m@\u001b[0m\u001b[0mproperty\u001b[0m\u001b[1;33m\u001b[0m\u001b[1;33m\u001b[0m\u001b[0m\n",
      "\u001b[1;32m~\\anaconda3\\envs\\ratio2\\lib\\site-packages\\tensorflow\\python\\eager\\function.py\u001b[0m in \u001b[0;36m_call_flat\u001b[1;34m(self, args, captured_inputs, cancellation_manager)\u001b[0m\n\u001b[0;32m   1852\u001b[0m       \u001b[1;31m# No tape is watching; skip to running the function.\u001b[0m\u001b[1;33m\u001b[0m\u001b[1;33m\u001b[0m\u001b[1;33m\u001b[0m\u001b[0m\n\u001b[0;32m   1853\u001b[0m       return self._build_call_outputs(self._inference_function.call(\n\u001b[1;32m-> 1854\u001b[1;33m           ctx, args, cancellation_manager=cancellation_manager))\n\u001b[0m\u001b[0;32m   1855\u001b[0m     forward_backward = self._select_forward_and_backward_functions(\n\u001b[0;32m   1856\u001b[0m         \u001b[0margs\u001b[0m\u001b[1;33m,\u001b[0m\u001b[1;33m\u001b[0m\u001b[1;33m\u001b[0m\u001b[0m\n",
      "\u001b[1;32m~\\anaconda3\\envs\\ratio2\\lib\\site-packages\\tensorflow\\python\\eager\\function.py\u001b[0m in \u001b[0;36mcall\u001b[1;34m(self, ctx, args, cancellation_manager)\u001b[0m\n\u001b[0;32m    502\u001b[0m               \u001b[0minputs\u001b[0m\u001b[1;33m=\u001b[0m\u001b[0margs\u001b[0m\u001b[1;33m,\u001b[0m\u001b[1;33m\u001b[0m\u001b[1;33m\u001b[0m\u001b[0m\n\u001b[0;32m    503\u001b[0m               \u001b[0mattrs\u001b[0m\u001b[1;33m=\u001b[0m\u001b[0mattrs\u001b[0m\u001b[1;33m,\u001b[0m\u001b[1;33m\u001b[0m\u001b[1;33m\u001b[0m\u001b[0m\n\u001b[1;32m--> 504\u001b[1;33m               ctx=ctx)\n\u001b[0m\u001b[0;32m    505\u001b[0m         \u001b[1;32melse\u001b[0m\u001b[1;33m:\u001b[0m\u001b[1;33m\u001b[0m\u001b[1;33m\u001b[0m\u001b[0m\n\u001b[0;32m    506\u001b[0m           outputs = execute.execute_with_cancellation(\n",
      "\u001b[1;32m~\\anaconda3\\envs\\ratio2\\lib\\site-packages\\tensorflow\\python\\eager\\execute.py\u001b[0m in \u001b[0;36mquick_execute\u001b[1;34m(op_name, num_outputs, inputs, attrs, ctx, name)\u001b[0m\n\u001b[0;32m     53\u001b[0m     \u001b[0mctx\u001b[0m\u001b[1;33m.\u001b[0m\u001b[0mensure_initialized\u001b[0m\u001b[1;33m(\u001b[0m\u001b[1;33m)\u001b[0m\u001b[1;33m\u001b[0m\u001b[1;33m\u001b[0m\u001b[0m\n\u001b[0;32m     54\u001b[0m     tensors = pywrap_tfe.TFE_Py_Execute(ctx._handle, device_name, op_name,\n\u001b[1;32m---> 55\u001b[1;33m                                         inputs, attrs, num_outputs)\n\u001b[0m\u001b[0;32m     56\u001b[0m   \u001b[1;32mexcept\u001b[0m \u001b[0mcore\u001b[0m\u001b[1;33m.\u001b[0m\u001b[0m_NotOkStatusException\u001b[0m \u001b[1;32mas\u001b[0m \u001b[0me\u001b[0m\u001b[1;33m:\u001b[0m\u001b[1;33m\u001b[0m\u001b[1;33m\u001b[0m\u001b[0m\n\u001b[0;32m     57\u001b[0m     \u001b[1;32mif\u001b[0m \u001b[0mname\u001b[0m \u001b[1;32mis\u001b[0m \u001b[1;32mnot\u001b[0m \u001b[1;32mNone\u001b[0m\u001b[1;33m:\u001b[0m\u001b[1;33m\u001b[0m\u001b[1;33m\u001b[0m\u001b[0m\n",
      "\u001b[1;31mKeyboardInterrupt\u001b[0m: "
     ]
    }
   ],
   "source": [
    "## n회 반복\n",
    "nb_epochs = 100\n",
    "batch_size = 20\n",
    "history = model.fit(X_train, X_train, epochs=nb_epochs, batch_size=batch_size, validation_split=0.05).history"
   ]
  },
  {
   "cell_type": "code",
   "execution_count": null,
   "id": "bf01f457",
   "metadata": {
    "scrolled": false
   },
   "outputs": [],
   "source": [
    "## 모델의 예측값 확인\n",
    "print(X_train.shape)\n",
    "yhat = model.predict(X_train, verbose=0)\n",
    "print('---Predicted---')\n",
    "print(np.round(yhat,3))\n",
    "print('---Actual---')\n",
    "print(np.round(X_train, 3))\n",
    "\n",
    "## 모델 평가하기\n",
    "loss_and_metrics = model.evaluate(X_train, X_train, batch_size=batch_size)\n",
    "print('## evaluation loss and_metrics ##')\n",
    "print(loss_and_metrics)"
   ]
  },
  {
   "cell_type": "code",
   "execution_count": null,
   "id": "705db2b0",
   "metadata": {},
   "outputs": [],
   "source": [
    "## Training accuracy 그리기\n",
    "#fig, ax = plt.subplots(figsize=(14, 6), dpi=80)\n",
    "#ax.plot(history['acc'], 'b', label='Train', linewidth=2)\n",
    "#ax.plot(history['val_acc'], 'r', label='Validation', linewidth=2)\n",
    "#ax.set_title('Model accuracy', fontsize=16)\n",
    "#ax.set_ylabel('Accuracy')\n",
    "#ax.set_ylabel('Epoch')\n",
    "#ax.legend(loc='upper right')\n",
    "#plt.show()\n",
    "\n",
    "## Training loss 그리기\n",
    "fig, ax = plt.subplots(figsize=(14, 6), dpi=80)\n",
    "ax.plot(history['loss'], 'b', label='Train', linewidth=2)\n",
    "ax.plot(history['val_loss'], 'r', label='Validation', linewidth=2)\n",
    "ax.set_title('Model loss', fontsize=16)\n",
    "ax.set_ylabel('Loss (mae)')\n",
    "ax.set_xlabel('Epoch')\n",
    "ax.legend(loc='upper right')\n",
    "plt.show()"
   ]
  },
  {
   "cell_type": "code",
   "execution_count": null,
   "id": "a62cd392",
   "metadata": {
    "scrolled": false
   },
   "outputs": [],
   "source": [
    "def restore(X, window_size):\n",
    "    output_X = []\n",
    "    for i in range(0, len(X)):\n",
    "        output_X.append(X[i, 0])\n",
    "        if (i == len(X) - 1):\n",
    "            for j in range(1, window_size):\n",
    "                output_X.append(X[i, j])\n",
    "    return np.array(output_X)\n",
    "\n",
    "# Training set의 loss 분포 그리기\n",
    "X_pred = model.predict(X_train)\n",
    "X_pred = restore(X_pred, window_size)\n",
    "X_pred = pd.DataFrame(X_pred, columns=df.columns)\n",
    "X_pred.index = df.index\n",
    "\n",
    "scored = pd.DataFrame(index=df.index)\n",
    "Xtrain = restore(X_train, window_size)\n",
    "scored['Loss_mae'] = np.mean(np.abs(X_pred-Xtrain), axis=1)\n",
    "plt.figure(figsize=(16, 9), dpi=80)\n",
    "plt.title('Loss Disttribution', fontsize=16)\n",
    "sns.distplot(scored['Loss_mae'], bins=20, kde=True, color='blue')\n",
    "plt.xlim([0.0, 0.03])"
   ]
  },
  {
   "cell_type": "code",
   "execution_count": null,
   "id": "b47d49ef",
   "metadata": {},
   "outputs": [],
   "source": [
    "# test set에서 reconstruction loss 계산\n",
    "print('anomaly threshold = {}'.format(np.percentile(scored, 100)))\n",
    "threshold = np.percentile(scored, 100)\n",
    "\n",
    "#X_pred = model.predict(X_test)\n",
    "#X_pred = X_pred.reshape(X_pred.shape[0], X_pred.shape[2])\n",
    "#X_pred = pd.DataFrame(X_pred, columns=test.columns)\n",
    "#X_pred.index = test.index\n",
    "\n",
    "#scored = pd.DataFrame(index=test.index)\n",
    "#Xtest = X_test.reshape(X_test.shape[0], X_test.shape[2])\n",
    "#scored['Loss_mae'] = np.mean(np.abs(X_pred-Xtest), axis=1)\n",
    "#scored['Threshold'] = threshold\n",
    "#scored['Anomaly'] = scored['Loss_mae'] > scored['Threshold']\n",
    "#scored[scored['Anomaly']==1]"
   ]
  }
 ],
 "metadata": {
  "kernelspec": {
   "display_name": "Python 3 (ipykernel)",
   "language": "python",
   "name": "python3"
  },
  "language_info": {
   "codemirror_mode": {
    "name": "ipython",
    "version": 3
   },
   "file_extension": ".py",
   "mimetype": "text/x-python",
   "name": "python",
   "nbconvert_exporter": "python",
   "pygments_lexer": "ipython3",
   "version": "3.7.13"
  }
 },
 "nbformat": 4,
 "nbformat_minor": 5
}
